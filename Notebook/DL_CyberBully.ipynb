{
 "cells": [
  {
   "cell_type": "code",
   "execution_count": 19,
   "metadata": {},
   "outputs": [],
   "source": [
    "import pandas as pd\n",
    "import numpy as np\n",
    "import matplotlib.pyplot as plt\n",
    "import seaborn as sns\n",
    "sns.set_style('whitegrid')\n",
    "import nltk, os, re, string\n",
    "from nltk.corpus import stopwords\n",
    "import string\n",
    "import pickle"
   ]
  },
  {
   "cell_type": "code",
   "execution_count": 20,
   "metadata": {},
   "outputs": [],
   "source": [
    "train = pd.read_csv(\"../Dataset/twitter_parsed_dataset.csv\")"
   ]
  },
  {
   "cell_type": "markdown",
   "metadata": {},
   "source": [
    "# Data Cleaning"
   ]
  },
  {
   "cell_type": "markdown",
   "metadata": {},
   "source": [
    "First we have to clean our data as we don't want unwanted words to be part of our vocabulary"
   ]
  },
  {
   "cell_type": "code",
   "execution_count": 21,
   "metadata": {},
   "outputs": [
    {
     "data": {
      "text/html": [
       "<div>\n",
       "<style scoped>\n",
       "    .dataframe tbody tr th:only-of-type {\n",
       "        vertical-align: middle;\n",
       "    }\n",
       "\n",
       "    .dataframe tbody tr th {\n",
       "        vertical-align: top;\n",
       "    }\n",
       "\n",
       "    .dataframe thead th {\n",
       "        text-align: right;\n",
       "    }\n",
       "</style>\n",
       "<table border=\"1\" class=\"dataframe\">\n",
       "  <thead>\n",
       "    <tr style=\"text-align: right;\">\n",
       "      <th></th>\n",
       "      <th>Text</th>\n",
       "      <th>Annotation</th>\n",
       "      <th>oh_label</th>\n",
       "    </tr>\n",
       "  </thead>\n",
       "  <tbody>\n",
       "    <tr>\n",
       "      <th>0</th>\n",
       "      <td>@halalflaws @biebervalue @greenlinerzjm I read...</td>\n",
       "      <td>none</td>\n",
       "      <td>0.0</td>\n",
       "    </tr>\n",
       "    <tr>\n",
       "      <th>1</th>\n",
       "      <td>@ShreyaBafna3 Now you idiots claim that people...</td>\n",
       "      <td>none</td>\n",
       "      <td>0.0</td>\n",
       "    </tr>\n",
       "    <tr>\n",
       "      <th>2</th>\n",
       "      <td>RT @Mooseoftorment Call me sexist, but when I ...</td>\n",
       "      <td>sexism</td>\n",
       "      <td>1.0</td>\n",
       "    </tr>\n",
       "    <tr>\n",
       "      <th>3</th>\n",
       "      <td>@g0ssipsquirrelx Wrong, ISIS follows the examp...</td>\n",
       "      <td>racism</td>\n",
       "      <td>1.0</td>\n",
       "    </tr>\n",
       "    <tr>\n",
       "      <th>4</th>\n",
       "      <td>#mkr No No No No No No</td>\n",
       "      <td>none</td>\n",
       "      <td>0.0</td>\n",
       "    </tr>\n",
       "  </tbody>\n",
       "</table>\n",
       "</div>"
      ],
      "text/plain": [
       "                                                Text Annotation  oh_label\n",
       "0  @halalflaws @biebervalue @greenlinerzjm I read...       none       0.0\n",
       "1  @ShreyaBafna3 Now you idiots claim that people...       none       0.0\n",
       "2  RT @Mooseoftorment Call me sexist, but when I ...     sexism       1.0\n",
       "3  @g0ssipsquirrelx Wrong, ISIS follows the examp...     racism       1.0\n",
       "4                             #mkr No No No No No No       none       0.0"
      ]
     },
     "execution_count": 21,
     "metadata": {},
     "output_type": "execute_result"
    }
   ],
   "source": [
    "\n",
    "train = train.drop(columns=['index','id'])\n",
    "train.head()"
   ]
  },
  {
   "cell_type": "code",
   "execution_count": 22,
   "metadata": {},
   "outputs": [],
   "source": [
    "train['Text'] = train['Text'].fillna(\"\")"
   ]
  },
  {
   "cell_type": "code",
   "execution_count": 23,
   "metadata": {},
   "outputs": [
    {
     "name": "stdout",
     "output_type": "stream",
     "text": [
      "Wall time: 33.8 s\n"
     ]
    }
   ],
   "source": [
    "%%time\n",
    "# STEPS TAKEN FROM SRK NOTEBOOK\n",
    "# LOWER CASE ALL CHARACTERS \n",
    "train.Text = train.Text.apply(lambda x: x.lower())\n",
    "\n",
    "## LEMMATIZATION\n",
    "from nltk.stem import WordNetLemmatizer\n",
    "from nltk.corpus import wordnet as wn\n",
    "lemmatizer = WordNetLemmatizer()\n",
    "\n",
    "def lem(text):\n",
    "    pos_dict = {'N': wn.NOUN, 'V': wn.VERB, 'J': wn.ADJ, 'R': wn.ADV}\n",
    "    return(' '.join([lemmatizer.lemmatize(w,pos_dict.get(t, wn.NOUN)) for w,t in nltk.pos_tag(text.split())]))\n",
    "\n",
    "train.Text = train.Text.apply(lambda x: lem(x))\n",
    "\n",
    "# REMOVING PUNCTUATION\n",
    "def cleaner(text):\n",
    "    return(text.translate(str.maketrans('','', string.punctuation)))\n",
    "train.Text = train.Text.apply(lambda x: cleaner(x))\n",
    "\n",
    "# REMOVING STOPWORDS\n",
    "st_words = stopwords.words()\n",
    "def stopword(text):\n",
    "    return(' '.join([w for w in text.split() if w not in st_words ]))\n",
    "train.Text = train.Text.apply(lambda x: stopword(x))"
   ]
  },
  {
   "cell_type": "markdown",
   "metadata": {},
   "source": [
    "#### Without using Pretrained Vectors "
   ]
  },
  {
   "cell_type": "code",
   "execution_count": 24,
   "metadata": {},
   "outputs": [],
   "source": [
    "from keras.layers import Input, LSTM, Bidirectional, SpatialDropout1D, Dropout, Flatten, Dense, Embedding, BatchNormalization\n",
    "from keras.models import Model\n",
    "from keras.callbacks import ReduceLROnPlateau, EarlyStopping\n",
    "from keras.preprocessing.text import Tokenizer, text_to_word_sequence\n",
    "from keras.preprocessing.sequence import pad_sequences\n",
    "from tensorflow.keras.utils import to_categorical"
   ]
  },
  {
   "cell_type": "markdown",
   "metadata": {},
   "source": [
    "Using TensorFlow backend"
   ]
  },
  {
   "cell_type": "code",
   "execution_count": 25,
   "metadata": {},
   "outputs": [],
   "source": [
    "train = train.reset_index()"
   ]
  },
  {
   "cell_type": "code",
   "execution_count": 26,
   "metadata": {},
   "outputs": [
    {
     "data": {
      "text/html": [
       "<div>\n",
       "<style scoped>\n",
       "    .dataframe tbody tr th:only-of-type {\n",
       "        vertical-align: middle;\n",
       "    }\n",
       "\n",
       "    .dataframe tbody tr th {\n",
       "        vertical-align: top;\n",
       "    }\n",
       "\n",
       "    .dataframe thead th {\n",
       "        text-align: right;\n",
       "    }\n",
       "</style>\n",
       "<table border=\"1\" class=\"dataframe\">\n",
       "  <thead>\n",
       "    <tr style=\"text-align: right;\">\n",
       "      <th></th>\n",
       "      <th>Text</th>\n",
       "      <th>Annotation</th>\n",
       "      <th>oh_label</th>\n",
       "    </tr>\n",
       "  </thead>\n",
       "  <tbody>\n",
       "    <tr>\n",
       "      <th>0</th>\n",
       "      <td>halalflaws biebervalue greenlinerzjm read cont...</td>\n",
       "      <td>none</td>\n",
       "      <td>0.0</td>\n",
       "    </tr>\n",
       "    <tr>\n",
       "      <th>1</th>\n",
       "      <td>shreyabafna3 idiot claim people tried stop bec...</td>\n",
       "      <td>none</td>\n",
       "      <td>0.0</td>\n",
       "    </tr>\n",
       "    <tr>\n",
       "      <th>2</th>\n",
       "      <td>rt mooseoftorment call sexist go auto place id...</td>\n",
       "      <td>sexism</td>\n",
       "      <td>1.0</td>\n",
       "    </tr>\n",
       "    <tr>\n",
       "      <th>3</th>\n",
       "      <td>g0ssipsquirrelx wrong follows example mohammed...</td>\n",
       "      <td>racism</td>\n",
       "      <td>1.0</td>\n",
       "    </tr>\n",
       "    <tr>\n",
       "      <th>4</th>\n",
       "      <td>mkr</td>\n",
       "      <td>none</td>\n",
       "      <td>0.0</td>\n",
       "    </tr>\n",
       "  </tbody>\n",
       "</table>\n",
       "</div>"
      ],
      "text/plain": [
       "                                                Text Annotation  oh_label\n",
       "0  halalflaws biebervalue greenlinerzjm read cont...       none       0.0\n",
       "1  shreyabafna3 idiot claim people tried stop bec...       none       0.0\n",
       "2  rt mooseoftorment call sexist go auto place id...     sexism       1.0\n",
       "3  g0ssipsquirrelx wrong follows example mohammed...     racism       1.0\n",
       "4                                                mkr       none       0.0"
      ]
     },
     "execution_count": 26,
     "metadata": {},
     "output_type": "execute_result"
    }
   ],
   "source": [
    "train = train.drop(columns=['index'])\n",
    "train.head()"
   ]
  },
  {
   "cell_type": "code",
   "execution_count": 27,
   "metadata": {},
   "outputs": [
    {
     "name": "stdout",
     "output_type": "stream",
     "text": [
      "                                                Text Annotation  oh_label\n",
      "0  halalflaws biebervalue greenlinerzjm read cont...       none       0.0\n",
      "1  shreyabafna3 idiot claim people tried stop bec...       none       0.0\n",
      "2  rt mooseoftorment call sexist go auto place id...     sexism       1.0\n",
      "3  g0ssipsquirrelx wrong follows example mohammed...     racism       1.0\n",
      "4                                                mkr       none       0.0\n"
     ]
    }
   ],
   "source": [
    "train = train.reset_index(drop=True)\n",
    "print(train.head())\n"
   ]
  },
  {
   "cell_type": "code",
   "execution_count": 28,
   "metadata": {},
   "outputs": [
    {
     "data": {
      "text/plain": [
       "<bound method IndexOpsMixin.value_counts of 0        0.0\n",
       "1        0.0\n",
       "2        1.0\n",
       "3        1.0\n",
       "4        0.0\n",
       "        ... \n",
       "16846    0.0\n",
       "16847    0.0\n",
       "16848    0.0\n",
       "16849    0.0\n",
       "16850    0.0\n",
       "Name: oh_label, Length: 16851, dtype: float64>"
      ]
     },
     "execution_count": 28,
     "metadata": {},
     "output_type": "execute_result"
    }
   ],
   "source": [
    "train.oh_label.value_counts"
   ]
  },
  {
   "cell_type": "code",
   "execution_count": 29,
   "metadata": {},
   "outputs": [
    {
     "data": {
      "text/plain": [
       "3"
      ]
     },
     "execution_count": 29,
     "metadata": {},
     "output_type": "execute_result"
    }
   ],
   "source": [
    "train.oh_label.isna().sum()"
   ]
  },
  {
   "cell_type": "code",
   "execution_count": 30,
   "metadata": {},
   "outputs": [],
   "source": [
    "train.oh_label = train.oh_label.fillna(0)"
   ]
  },
  {
   "cell_type": "code",
   "execution_count": 31,
   "metadata": {},
   "outputs": [],
   "source": [
    "train.oh_label = train.oh_label.astype(int)"
   ]
  },
  {
   "cell_type": "code",
   "execution_count": 32,
   "metadata": {},
   "outputs": [
    {
     "data": {
      "text/plain": [
       "<bound method IndexOpsMixin.value_counts of 0        0\n",
       "1        0\n",
       "2        1\n",
       "3        1\n",
       "4        0\n",
       "        ..\n",
       "16846    0\n",
       "16847    0\n",
       "16848    0\n",
       "16849    0\n",
       "16850    0\n",
       "Name: oh_label, Length: 16851, dtype: int32>"
      ]
     },
     "execution_count": 32,
     "metadata": {},
     "output_type": "execute_result"
    }
   ],
   "source": [
    "train.oh_label.value_counts"
   ]
  },
  {
   "cell_type": "code",
   "execution_count": 33,
   "metadata": {},
   "outputs": [
    {
     "data": {
      "text/plain": [
       "(16851, 2)"
      ]
     },
     "execution_count": 33,
     "metadata": {},
     "output_type": "execute_result"
    }
   ],
   "source": [
    "train_label = to_categorical(train.oh_label,num_classes=2)\n",
    "train_label.shape"
   ]
  },
  {
   "cell_type": "code",
   "execution_count": 34,
   "metadata": {},
   "outputs": [
    {
     "data": {
      "text/plain": [
       "(16851, 256)"
      ]
     },
     "execution_count": 34,
     "metadata": {},
     "output_type": "execute_result"
    }
   ],
   "source": [
    "max_words = 40000\n",
    "max_len = 256\n",
    "\n",
    "tok = Tokenizer(lower=True, char_level=False)\n",
    "tok.fit_on_texts(train.Text)\n",
    "pickle.dump(tok, open(\"../Model/token.pickle\", \"wb\"))\n",
    "sequence = tok.texts_to_sequences(train.Text)\n",
    "sequence = pad_sequences(padding='post', sequences=sequence, maxlen= max_len)\n",
    "sequence.shape"
   ]
  },
  {
   "cell_type": "code",
   "execution_count": 35,
   "metadata": {},
   "outputs": [
    {
     "data": {
      "text/plain": [
       "array([[  158,   210,    91, ...,     0,     0,     0],\n",
       "       [ 5325,   168,   271, ...,     0,     0,     0],\n",
       "       [    2, 10364,    34, ...,     0,     0,     0],\n",
       "       ...,\n",
       "       [    2,  1266,   237, ...,     0,     0,     0],\n",
       "       [ 1801,   998,    91, ...,     0,     0,     0],\n",
       "       [ 1683,    45,   752, ...,     0,     0,     0]])"
      ]
     },
     "execution_count": 35,
     "metadata": {},
     "output_type": "execute_result"
    }
   ],
   "source": [
    "sequence"
   ]
  },
  {
   "cell_type": "code",
   "execution_count": 36,
   "metadata": {},
   "outputs": [],
   "source": [
    "def modeling():\n",
    "    inp = Input(shape=(max_len,))\n",
    "    x = Embedding(max_words, 300 ,input_length = max_len)(inp)\n",
    "    x = Bidirectional(LSTM(256, return_sequences=True))(x)\n",
    "    x = BatchNormalization()(x)\n",
    "    x = SpatialDropout1D(0.5)(x)\n",
    "    x = Flatten()(x)\n",
    "    x = Dense(128, activation= 'relu')(x)\n",
    "    x = BatchNormalization()(x)\n",
    "    x = Dropout(0.5)(x)\n",
    "    x = Dense(2, activation='softmax')(x)\n",
    "    model = Model(inputs = inp, outputs = x)\n",
    "    return(model)"
   ]
  },
  {
   "cell_type": "code",
   "execution_count": 37,
   "metadata": {},
   "outputs": [
    {
     "name": "stdout",
     "output_type": "stream",
     "text": [
      "Model: \"model\"\n",
      "_________________________________________________________________\n",
      " Layer (type)                Output Shape              Param #   \n",
      "=================================================================\n",
      " input_1 (InputLayer)        [(None, 256)]             0         \n",
      "                                                                 \n",
      " embedding (Embedding)       (None, 256, 300)          12000000  \n",
      "                                                                 \n",
      " bidirectional (Bidirectiona  (None, 256, 512)         1140736   \n",
      " l)                                                              \n",
      "                                                                 \n",
      " batch_normalization (BatchN  (None, 256, 512)         2048      \n",
      " ormalization)                                                   \n",
      "                                                                 \n",
      " spatial_dropout1d (SpatialD  (None, 256, 512)         0         \n",
      " ropout1D)                                                       \n",
      "                                                                 \n",
      " flatten (Flatten)           (None, 131072)            0         \n",
      "                                                                 \n",
      " dense (Dense)               (None, 128)               16777344  \n",
      "                                                                 \n",
      " batch_normalization_1 (Batc  (None, 128)              512       \n",
      " hNormalization)                                                 \n",
      "                                                                 \n",
      " dropout (Dropout)           (None, 128)               0         \n",
      "                                                                 \n",
      " dense_1 (Dense)             (None, 2)                 258       \n",
      "                                                                 \n",
      "=================================================================\n",
      "Total params: 29,920,898\n",
      "Trainable params: 29,919,618\n",
      "Non-trainable params: 1,280\n",
      "_________________________________________________________________\n"
     ]
    }
   ],
   "source": [
    "model = modeling()\n",
    "model.compile(optimizer = 'adam', metrics = ['accuracy'], loss= 'binary_crossentropy')\n",
    "model.summary()"
   ]
  },
  {
   "cell_type": "code",
   "execution_count": 38,
   "metadata": {},
   "outputs": [
    {
     "name": "stdout",
     "output_type": "stream",
     "text": [
      "Epoch 1/10\n",
      "185/185 [==============================] - ETA: 0s - loss: 0.5913 - accuracy: 0.7340WARNING:tensorflow:Learning rate reduction is conditioned on metric `valid_set` which is not available. Available metrics are: loss,accuracy,val_loss,val_accuracy,lr\n",
      "185/185 [==============================] - 40s 182ms/step - loss: 0.5913 - accuracy: 0.7340 - val_loss: 0.5516 - val_accuracy: 0.6924 - lr: 0.0010\n",
      "Epoch 2/10\n",
      "185/185 [==============================] - ETA: 0s - loss: 0.2694 - accuracy: 0.8994WARNING:tensorflow:Learning rate reduction is conditioned on metric `valid_set` which is not available. Available metrics are: loss,accuracy,val_loss,val_accuracy,lr\n",
      "185/185 [==============================] - 34s 181ms/step - loss: 0.2694 - accuracy: 0.8994 - val_loss: 3.2634 - val_accuracy: 0.3125 - lr: 0.0010\n",
      "Epoch 3/10\n",
      "185/185 [==============================] - ETA: 0s - loss: 0.1498 - accuracy: 0.9480WARNING:tensorflow:Learning rate reduction is conditioned on metric `valid_set` which is not available. Available metrics are: loss,accuracy,val_loss,val_accuracy,lr\n",
      "185/185 [==============================] - 34s 182ms/step - loss: 0.1498 - accuracy: 0.9480 - val_loss: 11.3975 - val_accuracy: 0.6879 - lr: 0.0010\n",
      "Epoch 4/10\n",
      "185/185 [==============================] - ETA: 0s - loss: 0.1035 - accuracy: 0.9669WARNING:tensorflow:Learning rate reduction is conditioned on metric `valid_set` which is not available. Available metrics are: loss,accuracy,val_loss,val_accuracy,lr\n",
      "185/185 [==============================] - 34s 182ms/step - loss: 0.1035 - accuracy: 0.9669 - val_loss: 0.6833 - val_accuracy: 0.8360 - lr: 0.0010\n",
      "Epoch 5/10\n",
      "185/185 [==============================] - ETA: 0s - loss: 0.0796 - accuracy: 0.9747WARNING:tensorflow:Learning rate reduction is conditioned on metric `valid_set` which is not available. Available metrics are: loss,accuracy,val_loss,val_accuracy,lr\n",
      "185/185 [==============================] - 34s 182ms/step - loss: 0.0796 - accuracy: 0.9747 - val_loss: 0.5710 - val_accuracy: 0.8303 - lr: 0.0010\n",
      "Epoch 6/10\n",
      "185/185 [==============================] - ETA: 0s - loss: 0.0555 - accuracy: 0.9819WARNING:tensorflow:Learning rate reduction is conditioned on metric `valid_set` which is not available. Available metrics are: loss,accuracy,val_loss,val_accuracy,lr\n",
      "185/185 [==============================] - 34s 182ms/step - loss: 0.0555 - accuracy: 0.9819 - val_loss: 1.2300 - val_accuracy: 0.5344 - lr: 0.0010\n",
      "Epoch 7/10\n",
      "185/185 [==============================] - ETA: 0s - loss: 0.0437 - accuracy: 0.9853WARNING:tensorflow:Learning rate reduction is conditioned on metric `valid_set` which is not available. Available metrics are: loss,accuracy,val_loss,val_accuracy,lr\n",
      "185/185 [==============================] - 34s 182ms/step - loss: 0.0437 - accuracy: 0.9853 - val_loss: 7.3816 - val_accuracy: 0.6879 - lr: 0.0010\n",
      "Epoch 8/10\n",
      "185/185 [==============================] - ETA: 0s - loss: 0.0362 - accuracy: 0.9892WARNING:tensorflow:Learning rate reduction is conditioned on metric `valid_set` which is not available. Available metrics are: loss,accuracy,val_loss,val_accuracy,lr\n",
      "185/185 [==============================] - 33s 181ms/step - loss: 0.0362 - accuracy: 0.9892 - val_loss: 17.2675 - val_accuracy: 0.6879 - lr: 0.0010\n",
      "Epoch 9/10\n",
      "185/185 [==============================] - ETA: 0s - loss: 0.0281 - accuracy: 0.9909WARNING:tensorflow:Learning rate reduction is conditioned on metric `valid_set` which is not available. Available metrics are: loss,accuracy,val_loss,val_accuracy,lr\n",
      "185/185 [==============================] - 33s 180ms/step - loss: 0.0281 - accuracy: 0.9909 - val_loss: 38.0572 - val_accuracy: 0.6879 - lr: 0.0010\n",
      "Epoch 10/10\n",
      "185/185 [==============================] - ETA: 0s - loss: 0.0280 - accuracy: 0.9911WARNING:tensorflow:Learning rate reduction is conditioned on metric `valid_set` which is not available. Available metrics are: loss,accuracy,val_loss,val_accuracy,lr\n",
      "185/185 [==============================] - 33s 180ms/step - loss: 0.0280 - accuracy: 0.9911 - val_loss: 0.7315 - val_accuracy: 0.8315 - lr: 0.0010\n"
     ]
    },
    {
     "data": {
      "text/plain": [
       "<keras.callbacks.History at 0x20e02747d00>"
      ]
     },
     "execution_count": 38,
     "metadata": {},
     "output_type": "execute_result"
    }
   ],
   "source": [
    "lr = ReduceLROnPlateau(monitor='valid_set', factor=0.002, min_lr=0.00001)\n",
    "model.fit(sequence, train_label, validation_split=0.30, callbacks=[lr], batch_size=64, epochs=10)"
   ]
  },
  {
   "cell_type": "code",
   "execution_count": 39,
   "metadata": {},
   "outputs": [
    {
     "data": {
      "text/plain": [
       "Text(0, 0.5, 'Accuracy')"
      ]
     },
     "execution_count": 39,
     "metadata": {},
     "output_type": "execute_result"
    },
    {
     "data": {
      "image/png": "[encoded data removed]",
      "text/plain": [
       "<Figure size 864x432 with 2 Axes>"
      ]
     },
     "metadata": {},
     "output_type": "display_data"
    }
   ],
   "source": [
    "performance_WO = pd.DataFrame({'epoch': model.history.epoch, 'loss': model.history.history['loss'], \n",
    "              'val_loss': model.history.history['val_loss'], 'acc': model.history.history['accuracy'],\n",
    "             'val_acc': model.history.history['val_accuracy']})\n",
    "\n",
    "fig, ax = plt.subplots(2,1, figsize=(12,6), sharex = True)  \n",
    "sns.lineplot(x= 'epoch', y= 'loss', data = performance_WO, ax= ax[0])\n",
    "sns.lineplot(x= 'epoch', y= 'val_loss', data = performance_WO, ax = ax[0])\n",
    "ax[0].legend(['TRAINING LOSS', 'VALIDATION LOSS'])\n",
    "ax[0].set_ylabel('Loss')\n",
    "\n",
    "  \n",
    "sns.lineplot(x= 'epoch', y= 'acc', data = performance_WO, ax= ax[1])\n",
    "sns.lineplot(x= 'epoch', y= 'val_acc', data = performance_WO, ax = ax[1])\n",
    "ax[1].legend(['TRAINING ACCURACY', 'VALIDATION ACCURACY'])\n",
    "ax[1].set_ylabel('Accuracy')"
   ]
  },
  {
   "cell_type": "markdown",
   "metadata": {},
   "source": [
    "# Save the Model"
   ]
  },
  {
   "cell_type": "code",
   "execution_count": 46,
   "metadata": {},
   "outputs": [],
   "source": [
    "model.save('../Model/CyberBully_DL_Model.h5')"
   ]
  }
 ],
 "metadata": {
  "interpreter": {
   "hash": "c93f7b219f32384179a3452a4b1c3d4a7cd177db80043fe12eb7063357652e7c"
  },
  "kernelspec": {
   "display_name": "Python 3.9.7",
   "language": "python",
   "name": "python3"
  },
  "language_info": {
   "codemirror_mode": {
    "name": "ipython",
    "version": 3
   },
   "file_extension": ".py",
   "mimetype": "text/x-python",
   "name": "python",
   "nbconvert_exporter": "python",
   "pygments_lexer": "ipython3",
   "version": "3.9.7"
  },
  "orig_nbformat": 4
 },
 "nbformat": 4,
 "nbformat_minor": 2
}
